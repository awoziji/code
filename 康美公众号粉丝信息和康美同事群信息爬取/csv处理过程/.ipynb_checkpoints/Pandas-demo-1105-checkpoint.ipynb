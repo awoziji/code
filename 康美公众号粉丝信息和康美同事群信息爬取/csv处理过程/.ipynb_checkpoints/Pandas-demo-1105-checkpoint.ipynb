{
 "cells": [
  {
   "cell_type": "markdown",
   "metadata": {},
   "source": [
    "# pandas索引练习"
   ]
  },
  {
   "cell_type": "markdown",
   "metadata": {},
   "source": [
    "一、读取CSV"
   ]
  },
  {
   "cell_type": "code",
   "execution_count": 27,
   "metadata": {},
   "outputs": [
    {
     "name": "stdout",
     "output_type": "stream",
     "text": [
      "  nickname  sex city province country  wechatqun\n",
      "0       志鸿  1.0   深圳       广东      中国        NaN\n",
      "1      H_丹  2.0   深圳       广东      中国        NaN\n",
      "2      许俊彬  1.0   深圳       广东      中国        NaN\n",
      "3       番薯  2.0   揭阳       广东      中国        NaN\n",
      "4      呼啦飞  1.0   昆明       云南      中国        NaN\n"
     ]
    }
   ],
   "source": [
    "#-*- coding=utf-8 -*-\n",
    "import pandas as pd\n",
    "import numpy as np\n",
    "df=pd.read_csv('微信公众号粉丝信息和群信息.csv',engine='python', header=0)\n",
    "print(df.head())"
   ]
  },
  {
   "cell_type": "code",
   "execution_count": 28,
   "metadata": {},
   "outputs": [
    {
     "data": {
      "text/plain": [
       "'H_丹'"
      ]
     },
     "execution_count": 28,
     "metadata": {},
     "output_type": "execute_result"
    }
   ],
   "source": [
    "index_name = df.iloc[1,0]\n",
    "index_name"
   ]
  },
  {
   "cell_type": "code",
   "execution_count": 29,
   "metadata": {},
   "outputs": [
    {
     "data": {
      "text/plain": [
       "0   -1\n",
       "1    0\n",
       "2   -1\n",
       "3   -1\n",
       "4   -1\n",
       "Name: nickname, dtype: int64"
      ]
     },
     "execution_count": 29,
     "metadata": {},
     "output_type": "execute_result"
    }
   ],
   "source": [
    "a = df['nickname'].str.find(index_name)\n",
    "a.head()"
   ]
  },
  {
   "cell_type": "code",
   "execution_count": 30,
   "metadata": {
    "scrolled": true
   },
   "outputs": [
    {
     "data": {
      "text/html": [
       "<div>\n",
       "<style scoped>\n",
       "    .dataframe tbody tr th:only-of-type {\n",
       "        vertical-align: middle;\n",
       "    }\n",
       "\n",
       "    .dataframe tbody tr th {\n",
       "        vertical-align: top;\n",
       "    }\n",
       "\n",
       "    .dataframe thead th {\n",
       "        text-align: right;\n",
       "    }\n",
       "</style>\n",
       "<table border=\"1\" class=\"dataframe\">\n",
       "  <thead>\n",
       "    <tr style=\"text-align: right;\">\n",
       "      <th></th>\n",
       "      <th>nickname</th>\n",
       "      <th>sex</th>\n",
       "      <th>city</th>\n",
       "      <th>province</th>\n",
       "      <th>country</th>\n",
       "      <th>wechatqun</th>\n",
       "    </tr>\n",
       "  </thead>\n",
       "  <tbody>\n",
       "    <tr>\n",
       "      <th>1</th>\n",
       "      <td>H_丹</td>\n",
       "      <td>2.0</td>\n",
       "      <td>深圳</td>\n",
       "      <td>广东</td>\n",
       "      <td>中国</td>\n",
       "      <td>NaN</td>\n",
       "    </tr>\n",
       "    <tr>\n",
       "      <th>485</th>\n",
       "      <td>H_丹</td>\n",
       "      <td>NaN</td>\n",
       "      <td>NaN</td>\n",
       "      <td>NaN</td>\n",
       "      <td>NaN</td>\n",
       "      <td>NaN</td>\n",
       "    </tr>\n",
       "  </tbody>\n",
       "</table>\n",
       "</div>"
      ],
      "text/plain": [
       "    nickname  sex city province country  wechatqun\n",
       "1        H_丹  2.0   深圳       广东      中国        NaN\n",
       "485      H_丹  NaN  NaN      NaN     NaN        NaN"
      ]
     },
     "execution_count": 30,
     "metadata": {},
     "output_type": "execute_result"
    }
   ],
   "source": [
    "df.loc[df[\"nickname\"] == index_name]"
   ]
  },
  {
   "cell_type": "code",
   "execution_count": 31,
   "metadata": {},
   "outputs": [
    {
     "name": "stdout",
     "output_type": "stream",
     "text": [
      "            nickname  sex city province country  wechatqun\n",
      "485              H_丹  NaN  NaN      NaN     NaN        NaN\n",
      "486               老虎  NaN  NaN      NaN     NaN        NaN\n",
      "487  Fiona? fangfang  NaN  NaN      NaN     NaN        NaN\n",
      "488               柱子  NaN  NaN      NaN     NaN        NaN\n",
      "489               果果  NaN  NaN      NaN     NaN        NaN\n",
      "    nickname  sex city province country wechatqun\n",
      "485      NaN  NaN  NaN      NaN     NaN       NaN\n",
      "486      NaN  NaN  NaN      NaN     NaN       NaN\n",
      "487      NaN  NaN  NaN      NaN     NaN       NaN\n",
      "488      NaN  NaN  NaN      NaN     NaN       NaN\n",
      "489      NaN  NaN  NaN      NaN     NaN       NaN\n"
     ]
    },
    {
     "data": {
      "text/html": [
       "<div>\n",
       "<style scoped>\n",
       "    .dataframe tbody tr th:only-of-type {\n",
       "        vertical-align: middle;\n",
       "    }\n",
       "\n",
       "    .dataframe tbody tr th {\n",
       "        vertical-align: top;\n",
       "    }\n",
       "\n",
       "    .dataframe thead th {\n",
       "        text-align: right;\n",
       "    }\n",
       "</style>\n",
       "<table border=\"1\" class=\"dataframe\">\n",
       "  <thead>\n",
       "    <tr style=\"text-align: right;\">\n",
       "      <th></th>\n",
       "      <th>nickname</th>\n",
       "      <th>sex</th>\n",
       "      <th>city</th>\n",
       "      <th>province</th>\n",
       "      <th>country</th>\n",
       "      <th>wechatqun</th>\n",
       "    </tr>\n",
       "  </thead>\n",
       "  <tbody>\n",
       "    <tr>\n",
       "      <th>0</th>\n",
       "      <td>志鸿</td>\n",
       "      <td>1.0</td>\n",
       "      <td>深圳</td>\n",
       "      <td>广东</td>\n",
       "      <td>中国</td>\n",
       "      <td>H_丹</td>\n",
       "    </tr>\n",
       "    <tr>\n",
       "      <th>1</th>\n",
       "      <td>H_丹</td>\n",
       "      <td>2.0</td>\n",
       "      <td>深圳</td>\n",
       "      <td>广东</td>\n",
       "      <td>中国</td>\n",
       "      <td>老虎</td>\n",
       "    </tr>\n",
       "    <tr>\n",
       "      <th>2</th>\n",
       "      <td>许俊彬</td>\n",
       "      <td>1.0</td>\n",
       "      <td>深圳</td>\n",
       "      <td>广东</td>\n",
       "      <td>中国</td>\n",
       "      <td>Fiona? fangfang</td>\n",
       "    </tr>\n",
       "    <tr>\n",
       "      <th>3</th>\n",
       "      <td>番薯</td>\n",
       "      <td>2.0</td>\n",
       "      <td>揭阳</td>\n",
       "      <td>广东</td>\n",
       "      <td>中国</td>\n",
       "      <td>柱子</td>\n",
       "    </tr>\n",
       "    <tr>\n",
       "      <th>4</th>\n",
       "      <td>呼啦飞</td>\n",
       "      <td>1.0</td>\n",
       "      <td>昆明</td>\n",
       "      <td>云南</td>\n",
       "      <td>中国</td>\n",
       "      <td>果果</td>\n",
       "    </tr>\n",
       "  </tbody>\n",
       "</table>\n",
       "</div>"
      ],
      "text/plain": [
       "  nickname  sex city province country        wechatqun\n",
       "0       志鸿  1.0   深圳       广东      中国              H_丹\n",
       "1      H_丹  2.0   深圳       广东      中国               老虎\n",
       "2      许俊彬  1.0   深圳       广东      中国  Fiona? fangfang\n",
       "3       番薯  2.0   揭阳       广东      中国               柱子\n",
       "4      呼啦飞  1.0   昆明       云南      中国               果果"
      ]
     },
     "execution_count": 31,
     "metadata": {},
     "output_type": "execute_result"
    }
   ],
   "source": [
    "print(df.iloc[485:].head())\n",
    "#方法1成功：\n",
    "df[\"wechatqun\"] = df[\"nickname\"].shift(-485)\n",
    "#方法2失败：\n",
    "#df.loc[0:, (\"wechatqun\")] = df.loc[485:, (\"nickname\")]\n",
    "#赋值为NaN\n",
    "df.loc[485:, (\"nickname\")] = np.nan\n",
    "print(df.iloc[485:].head())\n",
    "df.head()"
   ]
  },
  {
   "cell_type": "code",
   "execution_count": 32,
   "metadata": {},
   "outputs": [],
   "source": [
    "df.to_csv('Result.csv',encoding='utf-8', index=False)"
   ]
  },
  {
   "cell_type": "code",
   "execution_count": null,
   "metadata": {},
   "outputs": [],
   "source": []
  }
 ],
 "metadata": {
  "kernelspec": {
   "display_name": "Python 3",
   "language": "python",
   "name": "python3"
  },
  "language_info": {
   "codemirror_mode": {
    "name": "ipython",
    "version": 3
   },
   "file_extension": ".py",
   "mimetype": "text/x-python",
   "name": "python",
   "nbconvert_exporter": "python",
   "pygments_lexer": "ipython3",
   "version": "3.5.5"
  }
 },
 "nbformat": 4,
 "nbformat_minor": 2
}
